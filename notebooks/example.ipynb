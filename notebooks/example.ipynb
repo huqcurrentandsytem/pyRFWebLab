{
 "cells": [
  {
   "cell_type": "code",
   "execution_count": null,
   "metadata": {},
   "outputs": [],
   "source": [
    "import numpy as np\n",
    "\n",
    "from rfweblab import rfweblab, message"
   ]
  },
  {
   "cell_type": "code",
   "execution_count": null,
   "metadata": {},
   "outputs": [],
   "source": [
    "n_samples = 1024\n",
    "signal = np.random.randn(n_samples) + 1j * np.random.randn(n_samples)\n",
    "signal *= 0.01"
   ]
  },
  {
   "cell_type": "markdown",
   "metadata": {},
   "source": [
    "Validate"
   ]
  },
  {
   "cell_type": "code",
   "execution_count": null,
   "metadata": {},
   "outputs": [],
   "source": [
    "from rfweblab import validate\n",
    "\n",
    "validate(signal, rmsin=None)"
   ]
  },
  {
   "cell_type": "markdown",
   "metadata": {},
   "source": [
    "Upload the signal"
   ]
  },
  {
   "cell_type": "code",
   "execution_count": null,
   "metadata": {},
   "outputs": [],
   "source": [
    "from rfweblab import send\n",
    "\n",
    "remote_file = send(*validate(signal, rmsin=None))"
   ]
  },
  {
   "cell_type": "markdown",
   "metadata": {},
   "source": [
    "Check if available"
   ]
  },
  {
   "cell_type": "code",
   "execution_count": null,
   "metadata": {},
   "outputs": [],
   "source": [
    "import time\n",
    "from rfweblab.interface import is_available\n",
    "\n",
    "while not is_available(remote_file):\n",
    "    time.sleep(1.5)"
   ]
  },
  {
   "cell_type": "markdown",
   "metadata": {},
   "source": [
    "download the file"
   ]
  },
  {
   "cell_type": "code",
   "execution_count": null,
   "metadata": {},
   "outputs": [],
   "source": [
    "from rfweblab.interface import download\n",
    "\n",
    "filename = download(remote_file, path=\"/Users/ivannazarov/Downloads/\")"
   ]
  },
  {
   "cell_type": "markdown",
   "metadata": {},
   "source": [
    "extrac the result"
   ]
  },
  {
   "cell_type": "code",
   "execution_count": null,
   "metadata": {},
   "outputs": [],
   "source": [
    "from zipfile import ZipFile\n",
    "\n",
    "with ZipFile(filename, mode=\"r\") as zin:\n",
    "    with zin.open(remote_file) as fin:\n",
    "        data = fin.read()"
   ]
  },
  {
   "cell_type": "markdown",
   "metadata": {},
   "source": [
    "deserialize the data"
   ]
  },
  {
   "cell_type": "code",
   "execution_count": null,
   "metadata": {},
   "outputs": [],
   "source": [
    "from rfweblab.serialize import deserialize\n",
    "\n",
    "output, pos = deserialize(data)"
   ]
  },
  {
   "cell_type": "markdown",
   "metadata": {},
   "source": [
    "What's in it?"
   ]
  },
  {
   "cell_type": "code",
   "execution_count": null,
   "metadata": {},
   "outputs": [],
   "source": [
    "output"
   ]
  },
  {
   "cell_type": "code",
   "execution_count": null,
   "metadata": {},
   "outputs": [],
   "source": [
    "# result = rfweblab(signal)"
   ]
  },
  {
   "cell_type": "code",
   "execution_count": null,
   "metadata": {},
   "outputs": [],
   "source": [
    "# result"
   ]
  },
  {
   "cell_type": "code",
   "execution_count": null,
   "metadata": {},
   "outputs": [],
   "source": [
    "%matplotlib inline\n",
    "import matplotlib.pyplot as plt"
   ]
  },
  {
   "cell_type": "code",
   "execution_count": null,
   "metadata": {},
   "outputs": [],
   "source": [
    "def plot_psd_numpy(ax, signal, sample_rate, nperseg=None, axis=-1, **kwargs):\n",
    "    from scipy.signal import welch\n",
    "    from matplotlib.ticker import EngFormatter\n",
    "\n",
    "    ax.set_ylabel(\"Decibels (dB / Hz)\")\n",
    "    ax.set_xlabel(\"Frequency\")\n",
    "    ax.xaxis.set_major_formatter(EngFormatter(unit=\"Hz\"))\n",
    "\n",
    "    signal = np.asanyarray(signal)\n",
    "    if nperseg is None:\n",
    "        nperseg = signal.shape[axis] // 2\n",
    "\n",
    "    ff, px = welch(signal, axis=axis, fs=sample_rate, detrend=False,\n",
    "                   window=\"hamming\", nperseg=nperseg, noverlap=0,\n",
    "                   scaling=\"density\", return_onesided=False)\n",
    "\n",
    "    ff, px = np.fft.fftshift(ff), np.fft.fftshift(px, axes=axis)\n",
    "\n",
    "    return ax.plot(ff, 10 * np.log10(px), **kwargs)"
   ]
  },
  {
   "cell_type": "code",
   "execution_count": null,
   "metadata": {},
   "outputs": [],
   "source": [
    "# y = result[\"y\"]\n",
    "y = np.ravel(output[\"b3_re\"] + 1j * output[\"b3_im\"])"
   ]
  },
  {
   "cell_type": "code",
   "execution_count": null,
   "metadata": {},
   "outputs": [],
   "source": [
    "plot_psd_numpy(plt.gca(), y, 400e6, axis=0, c=\"r\")\n",
    "plot_psd_numpy(plt.gca(), signal, 400e6, c=\"k\")"
   ]
  },
  {
   "cell_type": "code",
   "execution_count": null,
   "metadata": {},
   "outputs": [],
   "source": [
    "assert False"
   ]
  },
  {
   "cell_type": "markdown",
   "metadata": {},
   "source": [
    "<br>"
   ]
  },
  {
   "cell_type": "markdown",
   "metadata": {},
   "source": [
    "Playing with serialization"
   ]
  },
  {
   "cell_type": "code",
   "execution_count": null,
   "metadata": {},
   "outputs": [],
   "source": [
    "import numpy as np\n",
    "from rfweblab.serialize import serialize, deserialize"
   ]
  },
  {
   "cell_type": "code",
   "execution_count": null,
   "metadata": {},
   "outputs": [],
   "source": [
    "def dese(obj):\n",
    "    return deserialize(serialize(obj))[0]\n",
    "\n",
    "def sede(obj):\n",
    "    return serialize(deserialize(obj)[0])"
   ]
  },
  {
   "cell_type": "code",
   "execution_count": null,
   "metadata": {},
   "outputs": [],
   "source": [
    "from itertools import zip_longest\n",
    "\n",
    "ary = []\n",
    "\n",
    "iters = 16 * [iter(ary)]\n",
    "for g in zip_longest(*iters):\n",
    "    print(\", \".join(f\"{d:3d}\" for d in g if d is not None))"
   ]
  },
  {
   "cell_type": "markdown",
   "metadata": {},
   "source": [
    "Some data to test"
   ]
  },
  {
   "cell_type": "code",
   "execution_count": null,
   "metadata": {},
   "outputs": [],
   "source": [
    "data = []"
   ]
  },
  {
   "cell_type": "code",
   "execution_count": null,
   "metadata": {},
   "outputs": [],
   "source": [
    "data.append(bytes([\n",
    "    255,   6,  14,   0,   0,   0,  67, 108, 105, 101, 110, 116,  95, 118, 101, 114,\n",
    "    115, 105, 111, 110,   6,   0,   0,   0,  79, 112,  77, 111, 100, 101,  10,   0,\n",
    "      0,   0,  80, 111, 119, 101, 114,  76, 101, 118, 101, 108,  10,   0,   0,   0,\n",
    "     83,  65,  95,  83,  97, 109, 112, 108, 101, 115,   7,   0,   0,   0,  82, 101,\n",
    "     95, 100,  97, 116,  97,   7,   0,   0,   0,  73, 109,  95, 100,  97, 116,  97,\n",
    "      2,   1,   0,   0,   0,   1,   0,   0,   0,   1,   2,   1,   0,   0,   0,   1,\n",
    "      0,   0,   0, 205, 204, 140,  63,   3,   2,   1,   0,   0,   0,   8,   0,   0,\n",
    "      0,  65,  53,  90,  54,  85,  78, 117, 100,   0,   2,   1,   0,   0,   0,   1,\n",
    "      0,   0,   0,   0,   0,   0,   0,   0,   0, 240,  63,   0,   2,   1,   0,   0,\n",
    "      0,   1,   0,   0,   0,   0,   0,   0,   0,   0,   0,  36,  64,   0,   2,   1,\n",
    "      0,   0,   0,  10,   0,   0,   0,   0,   0,   0,   0,   0,   0,   0,   0,   0,\n",
    "      0,   0,   0,   0,   0,   0,   0,   0,   0,   0,   0,   0,   0,   0,   0,   0,\n",
    "      0,   0,   0,   0,   0,   0,   0,   0,   0,   0,   0,   0,   0,   0,   0,   0,\n",
    "      0,   0,   0,   0,   0,   0,   0,   0,   0,   0,   0,   0,   0,   0,   0,   0,\n",
    "      0,   0,   0,   0,   0,   0,   0,   0,   0,   0,   0,   0,   0,   0,   0,   0,\n",
    "      0,   0,   0,   0,   0,   0,   0,   0,   2,   1,   0,   0,   0,  10,   0,   0,\n",
    "      0,   0,   0,   0,   0,   0,   0,   0,   0,   0,   0,   0,   0,   0,   0,   0,\n",
    "      0,   0,   0,   0,   0,   0,   0,   0,   0,   0,   0,   0,   0,   0,   0,   0,\n",
    "      0,   0,   0,   0,   0,   0,   0,   0,   0,   0,   0,   0,   0,   0,   0,   0,\n",
    "      0,   0,   0,   0,   0,   0,   0,   0,   0,   0,   0,   0,   0,   0,   0,   0,\n",
    "      0,   0,   0,   0,   0,   0,   0,   0,   0,   0,   0,   0,   0,   0,   0,   0,\n",
    "      0,\n",
    "]))"
   ]
  },
  {
   "cell_type": "code",
   "execution_count": null,
   "metadata": {},
   "outputs": [],
   "source": [
    "data.append(bytes([\n",
    "      3,   2,   1,   0,   0,   0,  18,   0,   0,   0,  97, 115, 100,  97, 115, 100,\n",
    "    113, 113, 102, 103, 103, 101,  98, 119, 114, 116, 110, 116, \n",
    "]))"
   ]
  },
  {
   "cell_type": "code",
   "execution_count": null,
   "metadata": {},
   "outputs": [],
   "source": [
    "data.append(bytes([\n",
    "    255,   4,   2,   0,   0,   0, 102,  49,   2,   0,   0,   0, 102,  50,   2,   0,\n",
    "      0,   0, 102,  51,   2,   0,   0,   0, 102,  52,   2,   1,   0,   0,   0,   2,\n",
    "      0,   0,   0,   0,   2,   1,   0,   0,   0,  10,   0,   0,   0,   0,   0,   0,\n",
    "      0,   0,   0,   0,   0,   0,   0,   0,   0,   0,   0,   0,   0,   0,   0,   0,\n",
    "      0,   0,   0,   0,   0,   0,   0,   0,   0,   0,   0,   0,   0,   0,   0,   0,\n",
    "      0,   0,   0,   0,   0,   0,   0,   0,   0,   0,   0,   0,   0,   0,   0,   0,\n",
    "      0,   0,   0,   0,   0,   0,   0,   0,   0,   0,   0,   0,   0,   0,   0,   0,\n",
    "      0,   0,   0,   0,   0,   0,   0,   0,   0,   0,   0,   0,   0,   3,   2,   1,\n",
    "      0,   0,   0,   1,   0,   0,   0,  97,   0,   2,   1,   0,   0,   0,   1,   0,\n",
    "      0,   0,  24,  45,  68,  84, 251,  33,   9,  64,   3,   2,   1,   0,   0,   0,\n",
    "      6,   0,   0,   0, 102, 111, 117, 114, 116, 104,   0,   2,   1,   0,   0,   0,\n",
    "     10,   0,   0,   0,   0,   0,   0,   0,   0,   0,   0,   0,   0,   0,   0,   0,\n",
    "      0,   0,   0,   0,   0,   0,   0,   0,   0,   0,   0,   0,   0,   0,   0,   0,\n",
    "      0,   0,   0,   0,   0,   0,   0,   0,   0,   0,   0,   0,   0,   0,   0,   0,\n",
    "      0,   0,   0,   0,   0,   0,   0,   0,   0,   0,   0,   0,   0,   0,   0,   0,\n",
    "      0,   0,   0,   0,   0,   0,   0,   0,   0,   0,   0,   0,   0,   0,   0,   0,\n",
    "      0,   0,   0,   0,   3,   2,   1,   0,   0,   0,   1,   0,   0,   0,  98,   0,\n",
    "      2,   1,   0,   0,   0,   1,   0,   0,   0, 222,  69, 190, 201,  60, 189,  35,\n",
    "     64,   3,   2,   1,   0,   0,   0,   6,   0,   0,   0, 102, 111, 117, 114, 116,\n",
    "    104\n",
    "]))"
   ]
  },
  {
   "cell_type": "code",
   "execution_count": null,
   "metadata": {},
   "outputs": [],
   "source": [
    "data.append(bytes([\n",
    "    254,   2,   2,   0,   0,   0,   2,   0,   0,   0,   3,   2,   1,   0,   0,   0,\n",
    "      3,   0,   0,   0,  97, 115, 115,   3,   2,   1,   0,   0,   0,   3,   0,   0,\n",
    "      0,  97, 115, 115,   3,   2,   1,   0,   0,   0,   3,   0,   0,   0,  97, 115,\n",
    "    115,   3,   2,   1,   0,   0,   0,   3,   0,   0,   0,  97, 115, 115,\n",
    "]))"
   ]
  },
  {
   "cell_type": "code",
   "execution_count": null,
   "metadata": {},
   "outputs": [],
   "source": [
    "data.append(bytes([\n",
    "      3,   2,   1,   0,   0,   0,   6,   0,   0,   0,  12,   0,   0,   0,  97, 115,\n",
    "]))"
   ]
  },
  {
   "cell_type": "code",
   "execution_count": null,
   "metadata": {},
   "outputs": [],
   "source": [
    "data.append(bytes([\n",
    "    254,   2,   1,   0,   0,   0,   1,   0,   0,   0,   0,   2,   0,   0,   0,   0,\n",
    "      0,   0,   0,   0\n",
    "]))"
   ]
  },
  {
   "cell_type": "code",
   "execution_count": null,
   "metadata": {},
   "outputs": [],
   "source": [
    "data.append(bytes([\n",
    "      1,   2,   1,   0,   0,   0,   1,   0,   0,   0, 205, 204, 140,  63,\n",
    "]))"
   ]
  },
  {
   "cell_type": "code",
   "execution_count": null,
   "metadata": {},
   "outputs": [],
   "source": [
    "for dat in data:\n",
    "    assert sede(dat) == dat\n",
    "    output, pos = deserialize(dat)\n",
    "    print(output)"
   ]
  },
  {
   "cell_type": "code",
   "execution_count": null,
   "metadata": {},
   "outputs": [],
   "source": [
    "objects = []"
   ]
  },
  {
   "cell_type": "code",
   "execution_count": null,
   "metadata": {},
   "outputs": [],
   "source": [
    "objects.append({\"a\": \"уа34по©™{©^©*#{\", \"b\": \"$©итц34п#}©#µ&#}¶© и¶√º£º©¶˜√]}*њ\"})"
   ]
  },
  {
   "cell_type": "code",
   "execution_count": null,
   "metadata": {},
   "outputs": [],
   "source": [
    "objects.append(\n",
    "    np.array([\n",
    "        'asd', 'sdfg\\xfff33'\n",
    "    ], object)\n",
    ")"
   ]
  },
  {
   "cell_type": "code",
   "execution_count": null,
   "metadata": {
    "scrolled": false
   },
   "outputs": [],
   "source": [
    "for obj in objects:\n",
    "    assert np.all(dese(obj) == obj)\n",
    "    print(serialize(obj))"
   ]
  },
  {
   "cell_type": "code",
   "execution_count": null,
   "metadata": {},
   "outputs": [],
   "source": [
    "assert False"
   ]
  },
  {
   "cell_type": "markdown",
   "metadata": {},
   "source": [
    "<br>"
   ]
  }
 ],
 "metadata": {
  "kernelspec": {
   "display_name": "Python 3",
   "language": "python",
   "name": "python3"
  },
  "language_info": {
   "codemirror_mode": {
    "name": "ipython",
    "version": 3
   },
   "file_extension": ".py",
   "mimetype": "text/x-python",
   "name": "python",
   "nbconvert_exporter": "python",
   "pygments_lexer": "ipython3",
   "version": "3.7.2"
  }
 },
 "nbformat": 4,
 "nbformat_minor": 2
}
